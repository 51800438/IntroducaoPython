{
 "cells": [
  {
   "cell_type": "markdown",
   "metadata": {},
   "source": [
    "# Lab 5: Orientação a objetos com Python"
   ]
  },
  {
   "cell_type": "markdown",
   "metadata": {},
   "source": [
    "## Overview\n",
    "\n",
    "Depois da última aula, que na maior parte cobriu regras, definições e semântica, nós estaremos brincando com classes reais hoje, escrevendo um bom pedaço de código e construindo várias classes para resolver uma variedade de problemas.\n",
    "\n",
    "Lembre-se de nossas definições iniciais:\n",
    "\n",
    "- Um *objeto* tem identidade\n",
    "- Um *nome* é uma referência a um objeto\n",
    "- Um *namespace* é um mapeamento associativo de nomes para objetos\n",
    "- Um *atributo* é qualquer nome após um ponto ('.')"
   ]
  },
  {
   "cell_type": "markdown",
   "metadata": {},
   "source": [
    "## Cursos de Stanford"
   ]
  },
  {
   "cell_type": "markdown",
   "metadata": {},
   "source": [
    "### Classe base\n",
    "\n",
    "Vamos criar uma turma para representar cursos na Stanford! Um curso terá três atributos para iniciar: um departamento (como `\"CS\"`), um código de curso (como `\"41\"` ou `\" 92SI \"`) e um título (como `\"hap.py code\" `).\n",
    "\n",
    "```Python\n",
    "class StanfordCourse:\n",
    "    def __init__(self, department, code, title):\n",
    "        self.department = department\n",
    "        self.code = code\n",
    "        self.title = title\n",
    "```\n",
    "\n",
    "Você pode assumir que todos os argumentos para este construtor serão strings.\n",
    "\n",
    "Executar a célula de código a seguir criará a classe `StanfordCourse` e imprimirá algumas informações sobre ela.\n",
    "\n",
    "*Nota: Se você alterar o conteúdo desta definição de classe, você precisará re-executar a célula de código para que ela tenha algum efeito. Todos os objetos de instância do objeto de classe antigo não serão atualizados automaticamente, portanto, talvez seja necessário executar novamente instanciações desse objeto de classe.*"
   ]
  },
  {
   "cell_type": "code",
   "execution_count": 1,
   "metadata": {},
   "outputs": [
    {
     "name": "stdout",
     "output_type": "stream",
     "text": [
      "<class '__main__.StanfordCourse'>\n",
      "[<class '__main__.StanfordCourse'>, <class 'object'>]\n",
      "<function StanfordCourse.__init__ at 0x00000190965012F0>\n"
     ]
    }
   ],
   "source": [
    "class StanfordCourse:\n",
    "    def __init__(self, department, code, title):\n",
    "        self.department = department\n",
    "        self.code = code\n",
    "        self.title = title\n",
    "        \n",
    "print(StanfordCourse)\n",
    "print(StanfordCourse.mro())\n",
    "print(StanfordCourse.__init__)"
   ]
  },
  {
   "cell_type": "markdown",
   "metadata": {},
   "source": [
    "Criamos uma instância da classe, instanciando o objeto de classe, fornecendo alguns argumentos.\n",
    "\n",
    "```Python\n",
    "stanford_python = StanfordCourse(\"CS\", \"41\", \"hap.py code: the python programming language\")\n",
    "```\n",
    "Imprima os três atributos do objeto `stanford_python`."
   ]
  },
  {
   "cell_type": "code",
   "execution_count": 4,
   "metadata": {},
   "outputs": [],
   "source": [
    "stanford_python = StanfordCourse(\"CS\", \"41\", \"hap.py code: the python programming language\")"
   ]
  },
  {
   "cell_type": "code",
   "execution_count": 5,
   "metadata": {},
   "outputs": [
    {
     "name": "stdout",
     "output_type": "stream",
     "text": [
      "CS\n",
      "41\n",
      "hap.py code: the python programming language\n"
     ]
    }
   ],
   "source": [
    "print( stanford_python.department) # Print out the department of stanford_python\n",
    "print( stanford_python.code) # Print out the code of stanford_python\n",
    "print( stanford_python.title) # Print out the title of stanford_python"
   ]
  },
  {
   "cell_type": "markdown",
   "metadata": {},
   "source": [
    "### Herança\n",
    "\n",
    "Vamos explorar a herança criando uma classe `StanfordCSCourse` que recebe um parâmetro adicional` recorded` com valor padrão `False`."
   ]
  },
  {
   "cell_type": "code",
   "execution_count": 6,
   "metadata": {},
   "outputs": [],
   "source": [
    "class StanfordCSCourse(StanfordCourse):\n",
    "    def __init__(self, department, code, title, recorded=False):\n",
    "        super().__init__(department, code, title)\n",
    "        self.is_recorded = recorded"
   ]
  },
  {
   "cell_type": "markdown",
   "metadata": {},
   "source": [
    "Nós ainda não vimos a chamada `super()`, mas essa chamada nos permite tratar o objeto `self` como um objeto de instância da superclasse imediata (medida pelo MRO), então podemos chamar o método `__init__` da superclasse.\n",
    "\n",
    "Podemos instanciar nossa nova classe:\n",
    "\n",
    "```Python\n",
    "a = StanfordCourse(\"CS\", \"106A\", \"Programming Methodology\")\n",
    "b = StanfordCSCourse(\"CS\", \"106B\", \"Programming Abstractions\")\n",
    "x = StanfordCSCourse(\"CS\", \"106X\", \"Programming Abstractions\", recorded=True)\n",
    "print(a.code)  # => \"106A\"\n",
    "print(b.code)  # => \"106B\"\n",
    "```\n",
    "\n",
    "Leia as seguintes declarações e tente prever sua saída.\n",
    "\n",
    "```Python\n",
    "type(a)\n",
    "isinstance(a, StanfordCourse)\n",
    "isinstance(b, StanfordCourse)\n",
    "isinstance(x, StanfordCourse)\n",
    "isinstance(x, StanfordCSCourse)\n",
    "issubclass(x, StanfordCSCourse)\n",
    "issubclass(StanfordCourse, StanfordCSCourse)\n",
    "type(a) == type(b)\n",
    "type(b) == type(x)\n",
    "a == b\n",
    "b == x\n",
    "```"
   ]
  },
  {
   "cell_type": "code",
   "execution_count": 7,
   "metadata": {},
   "outputs": [
    {
     "name": "stdout",
     "output_type": "stream",
     "text": [
      "<class '__main__.StanfordCourse'>\n",
      "True\n",
      "True\n",
      "True\n",
      "True\n",
      "False\n",
      "False\n",
      "True\n",
      "False\n",
      "False\n"
     ]
    }
   ],
   "source": [
    "a = StanfordCourse(\"CS\", \"106A\", \"Programming Methodology\")\n",
    "b = StanfordCSCourse(\"CS\", \"106B\", \"Programming Abstractions\")\n",
    "x = StanfordCSCourse(\"CS\", \"106X\", \"Programming Abstractions\", recorded=True)\n",
    "\n",
    "print(type(a)) #Previsão: Type Class StanfordCourse\n",
    "print(isinstance(a, StanfordCourse)) # Previsão: True\n",
    "print(isinstance(b, StanfordCourse)) # Previsão: True. B herdou a instancia de StanfordCourse\n",
    "print(isinstance(x, StanfordCourse)) # Previsão: True. X herdou a instancia de StanfordCourse\n",
    "print(isinstance(x, StanfordCSCourse)) # Previsão: True\n",
    "print(issubclass(StanfordCourse, StanfordCSCourse)) # Previsão: False. A subclasse é StanfordCSCourse\n",
    "print(type(a) == type(b)) #Previsão: False\n",
    "print(type(b) == type(x)) #Previsão: True\n",
    "print(a == b) #Previsão: False\n",
    "print(b == x) #Previsão: False. X possui a mesma classe porém o atributo recorded é diferente"
   ]
  },
  {
   "cell_type": "code",
   "execution_count": 8,
   "metadata": {},
   "outputs": [
    {
     "name": "stdout",
     "output_type": "stream",
     "text": [
      "True\n"
     ]
    }
   ],
   "source": [
    "print(issubclass(StanfordCSCourse , StanfordCourse))"
   ]
  },
  {
   "cell_type": "markdown",
   "metadata": {},
   "source": [
    "### Atributos Adicionais\n",
    "\n",
    "Vamos adicionar mais funcionalidades à classe `StanfordCourse`!\n",
    "\n",
    "* Adicione um atributo `students` às instâncias da classe `StanfordCourse` que controla se os alunos estão presentes. Inicialmente, os alunos devem ser um conjunto vazio.\n",
    "* Crie um método `mark_attendance(*students)` que tome um número variável de `students` e marque-os como presentes.\n",
    "* Crie um método `is_present(student)` que use o nome de um aluno como parâmetro e retorne `True` se o aluno estiver presente e `False` caso contrário."
   ]
  },
  {
   "cell_type": "code",
   "execution_count": 9,
   "metadata": {},
   "outputs": [],
   "source": [
    "class StanfordCourse:\n",
    "    def __init__(self, department, code, title):\n",
    "        self.department = department\n",
    "        self.code = code\n",
    "        self.title = title\n",
    "        self.students_dict = {}\n",
    "        \n",
    "    def mark_attendance(self, students): \n",
    "        for i in students:\n",
    "            nome = i.upper()\n",
    "            self.students_dict[nome] = 'Present'\n",
    "        self.students_dict['JUNIA'] = 'No'\n",
    "        print(self.students_dict)\n",
    "    \n",
    "    def is_present(self, student):\n",
    "            if student in self.students_dict:\n",
    "                if self.students_dict[student] == 'Present':\n",
    "                    return True\n",
    "                return False\n",
    "            return False"
   ]
  },
  {
   "cell_type": "code",
   "execution_count": 10,
   "metadata": {},
   "outputs": [],
   "source": [
    "a = StanfordCourse(\"CS\", \"106A\", \"Python Course\")"
   ]
  },
  {
   "cell_type": "code",
   "execution_count": 11,
   "metadata": {},
   "outputs": [
    {
     "name": "stdout",
     "output_type": "stream",
     "text": [
      "{'ANA': 'Present', 'BEATRIZ': 'Present', 'CARLOS': 'Present', 'DANIEL': 'Present', 'EVA': 'Present', 'JUNIA': 'No'}\n"
     ]
    }
   ],
   "source": [
    "lista_estudante = ['Ana', 'Beatriz', 'Carlos', 'Daniel', 'Eva']\n",
    "a.mark_attendance(lista_estudante)"
   ]
  },
  {
   "cell_type": "code",
   "execution_count": 12,
   "metadata": {},
   "outputs": [
    {
     "data": {
      "text/plain": [
       "True"
      ]
     },
     "execution_count": 12,
     "metadata": {},
     "output_type": "execute_result"
    }
   ],
   "source": [
    "a.is_present('Carlos'.upper())"
   ]
  },
  {
   "cell_type": "code",
   "execution_count": 13,
   "metadata": {},
   "outputs": [
    {
     "data": {
      "text/plain": [
       "False"
      ]
     },
     "execution_count": 13,
     "metadata": {},
     "output_type": "execute_result"
    }
   ],
   "source": [
    "a.is_present('João'.upper())"
   ]
  },
  {
   "cell_type": "code",
   "execution_count": 14,
   "metadata": {},
   "outputs": [
    {
     "data": {
      "text/plain": [
       "False"
      ]
     },
     "execution_count": 14,
     "metadata": {},
     "output_type": "execute_result"
    }
   ],
   "source": [
    "a.is_present('Eva')"
   ]
  },
  {
   "cell_type": "code",
   "execution_count": 15,
   "metadata": {},
   "outputs": [
    {
     "data": {
      "text/plain": [
       "True"
      ]
     },
     "execution_count": 15,
     "metadata": {},
     "output_type": "execute_result"
    }
   ],
   "source": [
    "a.is_present('Eva'.upper())"
   ]
  },
  {
   "cell_type": "code",
   "execution_count": 16,
   "metadata": {},
   "outputs": [
    {
     "data": {
      "text/plain": [
       "True"
      ]
     },
     "execution_count": 16,
     "metadata": {},
     "output_type": "execute_result"
    }
   ],
   "source": [
    "a.is_present('daniel'.upper()) #Para validar esse estudante precisa colocar tudo em maiusculo antes de validar"
   ]
  },
  {
   "cell_type": "code",
   "execution_count": 17,
   "metadata": {},
   "outputs": [
    {
     "data": {
      "text/plain": [
       "False"
      ]
     },
     "execution_count": 17,
     "metadata": {},
     "output_type": "execute_result"
    }
   ],
   "source": [
    "a.is_present('JUNIA'.upper())"
   ]
  },
  {
   "cell_type": "code",
   "execution_count": 18,
   "metadata": {},
   "outputs": [
    {
     "name": "stdout",
     "output_type": "stream",
     "text": [
      "{'ANA': 'PRESENTE', 'BEATRIZ': 'PRESENTE', 'CARLOS': 'PRESENTE', 'DANIEL': 'PRESENTE', 'EVA': 'PRESENTE'}\n",
      "PRESENTE\n"
     ]
    }
   ],
   "source": [
    "#Validando logica para criar dicionario\n",
    "lista_estudantes = ['Ana', 'Beatriz', 'Carlos', 'Daniel', 'Eva']\n",
    "def teste(students): \n",
    "    testedict = {}\n",
    "    for i in students:\n",
    "        testedict[i.upper()] = 'PRESENTE'\n",
    "    print(testedict)\n",
    "    print(testedict['ANA'])\n",
    "teste(lista_estudantes)\n"
   ]
  },
  {
   "cell_type": "markdown",
   "metadata": {},
   "source": [
    "### Implementando Pré-requisitos\n",
    "\n",
    "Agora, vamos nos concentrar em `StanfordCSCourse`. Queremos implementar a funcionalidade para determinar se um curso de ciência da computação é um pré-requisito de outro. Em nossa implementação, assumiremos que a ordenação de cursos é determinada primeiro pela parte numérica do código do curso: por exemplo, `140` vem antes de` 255`. Se houver um empate, a ordenação é determinada pela ordenação padrão das letras que se seguem. Por exemplo, `106A < 106B`. Após a implementação, você poderá ver:\n",
    "\n",
    "```Python\n",
    ">>> cs106a = StanfordCourse(\"CS\", \"106A\", \"Programming Methodology\")\n",
    ">>> cs106b = StanfordCSCourse(\"CS\", \"106B\", \"Programming Abstractions\")\n",
    ">>> cs107 = StanfordCSCourse(\"CS\", \"107\", \"Computer Organzation and Systems\")\n",
    ">>> cs110 = StanfordCSCourse(\"CS\", \"110\", \"Principles of Computer Systems\")\n",
    ">>> cs110 > cs106b\n",
    "True\n",
    ">>> cs107 > cs110\n",
    "False\n",
    "```\n",
    "\n",
    "Para conseguir isso, você precisará implementar o método mágico `__le__` que adicionará funcionalidade para determinar se um curso é um pré-requisito para outro curso. Leia em [*total ordering*](https://docs.python.org/3/library/functools.html#functools.total_ordering) para descobrir o que `__le__` deve retornar com base no argumento transmitido.\n",
    "\n",
    "Para dar algumas dicas sobre como adicionar este pedaço de funcionalidade pode ser implementado, considere como você pode extrair o número real `int` do atributo de código do curso.\n",
    "\n",
    "Adicionalmente, você deve implementar um `__eq__` na classe `StanfordCourse`. Dois cursos são equivalentes se estiverem no mesmo departamento e tiverem o mesmo código do curso: o título do curso não importa aqui."
   ]
  },
  {
   "cell_type": "code",
   "execution_count": 19,
   "metadata": {},
   "outputs": [],
   "source": [
    "class StanfordCourse:\n",
    "    def __init__(self, department, code, title):\n",
    "        self.department = department\n",
    "        self.code = code\n",
    "        self.title = title\n",
    "        self.students_dict = {}\n",
    "        \n",
    "    def mark_attendance(self, students): \n",
    "        for i in students:\n",
    "            nome = i.upper()\n",
    "            self.students_dict[nome] = 'Present'\n",
    "        print(self.students_dict)\n",
    "    \n",
    "    def __le__(self, other):\n",
    "        return (self.code <= other.code)\n",
    "    \n",
    "    def __eq__(self, other):\n",
    "        return (self.code == other.code)\n",
    "    \n",
    "    def __lt__(self, other):\n",
    "        return (self.code < other.code)\n",
    "    \n",
    "    def __gt__(self, other):\n",
    "        return (self.code > other.code)\n",
    "    \n",
    "    def __ne__(self, other):\n",
    "        return (self.code != other.code)\n",
    "    \n",
    "    def __ge__(self, other):\n",
    "        return (self.code >= other.code)\n",
    "\n",
    "    \n",
    "class StanfordCSCourse(StanfordCourse):\n",
    "    def __init__(self, department, code, title, recorded=False):\n",
    "        super().__init__(department, code, title)\n",
    "        self.is_recorded = recorded"
   ]
  },
  {
   "cell_type": "code",
   "execution_count": 20,
   "metadata": {},
   "outputs": [],
   "source": [
    "cs106a = StanfordCourse(\"CS\", \"106A\", \"Programming Methodology\")\n",
    "cs106b = StanfordCSCourse(\"CS\", \"106B\", \"Programming Abstractions\")\n",
    "cs107 = StanfordCSCourse(\"CS\", \"107\", \"Computer Organzation and Systems\")\n",
    "cs110 = StanfordCSCourse(\"CS\", \"110\", \"Principles of Computer Systems\")"
   ]
  },
  {
   "cell_type": "code",
   "execution_count": 21,
   "metadata": {},
   "outputs": [
    {
     "data": {
      "text/plain": [
       "True"
      ]
     },
     "execution_count": 21,
     "metadata": {},
     "output_type": "execute_result"
    }
   ],
   "source": [
    "cs110 > cs106b #True"
   ]
  },
  {
   "cell_type": "code",
   "execution_count": 22,
   "metadata": {},
   "outputs": [
    {
     "data": {
      "text/plain": [
       "False"
      ]
     },
     "execution_count": 22,
     "metadata": {},
     "output_type": "execute_result"
    }
   ],
   "source": [
    "cs107 > cs110 #False"
   ]
  },
  {
   "cell_type": "markdown",
   "metadata": {},
   "source": [
    "#### Ordenação\n",
    "\n",
    "Agora que escrevemos um método `__le__` e um método `__eq__`, implementamos tudo o que precisamos para falar sobre uma \"ordenação\" do `StanfordCourse`s. Usando o decorador [`functools.total_ordering`](https://docs.python.org/3/library/functools.html#functools.total_ordering), decore a classe para que todos os métodos de comparação sejam implementados. Você deveria poder executar o código abaixo sem problemas."
   ]
  },
  {
   "cell_type": "code",
   "execution_count": 23,
   "metadata": {},
   "outputs": [
    {
     "name": "stdout",
     "output_type": "stream",
     "text": [
      "110 106A 107 106B "
     ]
    }
   ],
   "source": [
    "# Let's make CS106A a CS course\n",
    "cs106a = StanfordCSCourse(\"CS\", \"106A\", \"Programming Methodology\")\n",
    "cs106b = StanfordCSCourse(\"CS\", \"106B\", \"Programming Abstractions\")\n",
    "cs107 = StanfordCSCourse(\"CS\", \"107\", \"Computer Organzation and Systems\")\n",
    "cs110 = StanfordCSCourse(\"CS\", \"110\", \"Principles of Computer Systems\")\n",
    "\n",
    "courses = [cs110, cs106a, cs107, cs106b]\n",
    "for x in courses: print(x.code, end=\" \")  # Sem ordenacao"
   ]
  },
  {
   "cell_type": "code",
   "execution_count": 24,
   "metadata": {},
   "outputs": [
    {
     "name": "stdout",
     "output_type": "stream",
     "text": [
      "106A 106B 107 110 "
     ]
    }
   ],
   "source": [
    "#Apos Ordenacao\n",
    "courses.sort()\n",
    "for x in courses: print(x.code, end=\" \") #=> [cs106a, cs106b, cs107, cs110]"
   ]
  },
  {
   "cell_type": "markdown",
   "metadata": {},
   "source": [
    "### Catálogo\n",
    "\n",
    "Implemente uma classe chamada `CourseCatalog` que é construída a partir de uma lista de `StanfordCourse`s. Escreva um método para o `CourseCatalog` que retorna uma lista de cursos em um determinado departamento. Adicionalmente, escreva um método para o `CourseCatalog` que retorne todos os cursos que contenham um dado pedaço de texto de busca em seu título.\n",
    "\n",
    "Sinta-se à vontade para implementar qualquer outro método interessante que você queira."
   ]
  },
  {
   "cell_type": "code",
   "execution_count": 110,
   "metadata": {},
   "outputs": [],
   "source": [
    "class CourseCatalog:\n",
    "    def __init__(self, courses):\n",
    "        self.courses = courses\n",
    "       \n",
    "    def courses_by_department(self, department_name):\n",
    "        lst = []\n",
    "        for elemt in self.courses:\n",
    "            if elemt.department == department_name:\n",
    "                lst.append(elemt)\n",
    "        return lst\n",
    "        \n",
    "    def courses_by_search_term(self, search_snippet):\n",
    "        lst = []\n",
    "        for elemt in self.courses:\n",
    "            if search_snippet in elemt.title:\n",
    "                lst.append(elemt)\n",
    "        return lst"
   ]
  },
  {
   "cell_type": "code",
   "execution_count": 111,
   "metadata": {},
   "outputs": [],
   "source": [
    "cs106a = StanfordCSCourse(\"CS\", \"106A\", \"Programming Methodology\")\n",
    "cs106b = StanfordCSCourse(\"CS\", \"106B\", \"Programming Abstractions\")\n",
    "cs107 = StanfordCSCourse(\"CS\", \"107\", \"Computer Organzation and Systems\")\n",
    "cs110 = StanfordCSCourse(\"CS\", \"110\", \"Principles of Computer Systems\")\n",
    "ts100 = StanfordCSCourse(\"TS\", \"100\", \"Logic of Programming\")\n",
    "courses = [cs110, cs106a, cs107, cs106b, ts100]\n",
    "x= CourseCatalog(courses)"
   ]
  },
  {
   "cell_type": "code",
   "execution_count": 131,
   "metadata": {},
   "outputs": [
    {
     "name": "stdout",
     "output_type": "stream",
     "text": [
      "CS 110 Principles of Computer Systems\n",
      "CS 106A Programming Methodology\n",
      "CS 107 Computer Organzation and Systems\n",
      "CS 106B Programming Abstractions\n"
     ]
    }
   ],
   "source": [
    "resp = x.courses_by_department(\"CS\")\n",
    "for i in resp:\n",
    "    print(i.department, i.code, i.title)"
   ]
  },
  {
   "cell_type": "code",
   "execution_count": 133,
   "metadata": {},
   "outputs": [
    {
     "name": "stdout",
     "output_type": "stream",
     "text": [
      "TS 100 Logic of Programming\n"
     ]
    }
   ],
   "source": [
    "resp = x.courses_by_department(\"TS\")\n",
    "for i in resp:\n",
    "    print(i.department, i.code, i.title)"
   ]
  },
  {
   "cell_type": "code",
   "execution_count": 135,
   "metadata": {},
   "outputs": [
    {
     "name": "stdout",
     "output_type": "stream",
     "text": [
      "CS 106A Programming Methodology\n",
      "CS 106B Programming Abstractions\n",
      "TS 100 Logic of Programming\n"
     ]
    }
   ],
   "source": [
    "resp = x.courses_by_search_term(\"Programming\") \n",
    "for i in resp:\n",
    "    print(i.department, i.code, i.title)"
   ]
  },
  {
   "cell_type": "code",
   "execution_count": 137,
   "metadata": {},
   "outputs": [
    {
     "name": "stdout",
     "output_type": "stream",
     "text": [
      "TS 100 Logic of Programming\n"
     ]
    }
   ],
   "source": [
    "resp = x.courses_by_search_term(\"Logic\")\n",
    "for i in resp:\n",
    "    print(i.department, i.code, i.title)"
   ]
  },
  {
   "cell_type": "code",
   "execution_count": 139,
   "metadata": {},
   "outputs": [
    {
     "name": "stdout",
     "output_type": "stream",
     "text": [
      "TS 100 Logic of Programming\n"
     ]
    }
   ],
   "source": [
    "resp = x.courses_by_search_term(\"Logic\")\n",
    "for i in resp:\n",
    "    print(i.department,i.code, i.title)"
   ]
  },
  {
   "cell_type": "markdown",
   "metadata": {},
   "source": [
    "## Herança"
   ]
  },
  {
   "cell_type": "markdown",
   "metadata": {},
   "source": [
    "Considere o seguinte código:\n",
    "\n",
    "```Python\n",
    "\"\"\"Examples of Single Inheritance\"\"\"\n",
    "class Transportation:\n",
    "    wheels = 0\n",
    "\n",
    "    def __init__(self):\n",
    "        self.wheels = -1\n",
    "\n",
    "    def travel_one(self):\n",
    "        print(\"Travelling on generic transportation\")\n",
    "\n",
    "    def travel(self, distance):\n",
    "        for _ in range(distance):\n",
    "            self.travel_one()\n",
    "\n",
    "    def is_auto(self):\n",
    "        return self.wheels == 4\n",
    "\n",
    "class Bike(Transportation):\n",
    "\n",
    "    def travel_one(self):\n",
    "        print(\"Biking one mile\")\n",
    "\n",
    "class Car(Transportation):\n",
    "    wheels = 4\n",
    "\n",
    "    def travel_one(self):\n",
    "        print(\"Driving one mile\")\n",
    "\n",
    "    def make_sound(self):\n",
    "        print(\"VROOM\")\n",
    "\n",
    "class Ferrari(Car):\n",
    "    pass\n",
    "\n",
    "t = Transportation()\n",
    "b = Bike()\n",
    "c = Car()\n",
    "f = Ferrari()\n",
    "```\n",
    "\n",
    "Preveja o resultado de cada uma das seguintes linhas de código.\n",
    "\n",
    "```Python\n",
    "isinstance(t, Transportation) #Saida Prevista = True\n",
    "\n",
    "isinstance(b, Bike)   #Saida Prevista = True\n",
    "isinstance(b, Transportation)    #Saida Prevista = True\n",
    "isinstance(b, Car)  #Saida Prevista = False\n",
    "isinstance(b, t)    #Saida Prevista = False\n",
    "\n",
    "isinstance(c, Car)  #Saida Prevista = True\n",
    "isinstance(c, Transportation)    #Saida Prevista = True\n",
    "\n",
    "isinstance(f, Ferrari)    #Saida Prevista = True\n",
    "isinstance(f, Car)    #Saida Prevista = True\n",
    "isinstance(f, Transportation)    #Saida Prevista = True\n",
    "\n",
    "issubclass(Bike, Transportation)    #Saida Prevista = True\n",
    "issubclass(Car, Transportation)    #Saida Prevista = True\n",
    "issubclass(Ferrari, Car)    #Saida Prevista = True\n",
    "issubclass(Ferrari, Transportation)    #Saida Prevista = True\n",
    "issubclass(Transportation, Transportation)    #Saida Prevista = True\n",
    "\n",
    "b.travel(5)    #Saida Prevista: Biking one mile (5 vezes)\n",
    "c.is_auto()    #Saida Prevista= True. Porem como a funcao pertece a classe superior, o valor de wheels é 0, retornando False\n",
    "f.is_auto()    #Saida Prevista= True. Porem como a funcao pertece a classe superior, o valor de wheels é 0, retornando False\n",
    "b.is_auto()    #Saida Prevista= False\n",
    "b.make_sound() #Saida Prevista= Error. make_sound não petencente a classe Bike\n",
    "c.travel(10)   #Saida Prevista= Driving one mile (10 vezes)\n",
    "f.travel(4)    #Saida Prevista= Driving one mile (4 vezes)\n",
    "```"
   ]
  },
  {
   "cell_type": "code",
   "execution_count": 25,
   "metadata": {},
   "outputs": [],
   "source": [
    "class Transportation:\n",
    "    wheels = 0\n",
    "\n",
    "    def __init__(self):\n",
    "        self.wheels = -1\n",
    "\n",
    "    def travel_one(self):\n",
    "        print(\"Travelling on generic transportation\")\n",
    "\n",
    "    def travel(self, distance):\n",
    "        for _ in range(distance):\n",
    "            self.travel_one()\n",
    "\n",
    "    def is_auto(self):\n",
    "        return self.wheels == 4\n",
    "\n",
    "class Bike(Transportation):\n",
    "\n",
    "    def travel_one(self):\n",
    "        print(\"Biking one mile\")\n",
    "\n",
    "class Car(Transportation):\n",
    "    wheels = 4\n",
    "\n",
    "    def travel_one(self):\n",
    "        print(\"Driving one mile\")\n",
    "\n",
    "    def make_sound(self):\n",
    "        print(\"VROOM\")\n",
    "\n",
    "class Ferrari(Car):\n",
    "    pass\n",
    "\n",
    "t = Transportation()\n",
    "b = Bike()\n",
    "c = Car()\n",
    "f = Ferrari()"
   ]
  },
  {
   "cell_type": "code",
   "execution_count": 26,
   "metadata": {},
   "outputs": [
    {
     "name": "stdout",
     "output_type": "stream",
     "text": [
      "True\n",
      "True\n",
      "True\n",
      "False\n",
      "False\n",
      "True\n",
      "True\n",
      "True\n",
      "True\n",
      "True\n",
      "True\n",
      "True\n",
      "True\n",
      "True\n",
      "True\n",
      "Biking one mile\n",
      "Biking one mile\n",
      "Biking one mile\n",
      "Biking one mile\n",
      "Biking one mile\n",
      "False\n",
      "False\n",
      "False\n",
      "Driving one mile\n",
      "Driving one mile\n",
      "Driving one mile\n",
      "Driving one mile\n",
      "Driving one mile\n",
      "Driving one mile\n",
      "Driving one mile\n",
      "Driving one mile\n",
      "Driving one mile\n",
      "Driving one mile\n",
      "Driving one mile\n",
      "Driving one mile\n",
      "Driving one mile\n",
      "Driving one mile\n"
     ]
    }
   ],
   "source": [
    "print(isinstance(t, Transportation))\n",
    "\n",
    "print(isinstance(b, Bike))\n",
    "print(isinstance(b, Transportation))\n",
    "print(isinstance(b, Car))\n",
    "print(isinstance(b, type(Car)))\n",
    "\n",
    "print(isinstance(c, Car))\n",
    "print(isinstance(c, Transportation))\n",
    "\n",
    "print(isinstance(f, Ferrari))\n",
    "print(isinstance(f, Car))\n",
    "print(isinstance(f, Transportation))\n",
    "\n",
    "print(issubclass(Bike, Transportation))\n",
    "print(issubclass(Car, Transportation))\n",
    "print(issubclass(Ferrari, Car))\n",
    "print(issubclass(Ferrari, Transportation))\n",
    "print(issubclass(Transportation, Transportation))\n",
    "\n",
    "b.travel(5)\n",
    "print(c.is_auto())\n",
    "print(f.is_auto())\n",
    "print(b.is_auto())\n",
    "# b.make_sound()\n",
    "c.travel(10)\n",
    "f.travel(4)"
   ]
  },
  {
   "cell_type": "markdown",
   "metadata": {},
   "source": [
    "## Métodos Mágicos"
   ]
  },
  {
   "cell_type": "markdown",
   "metadata": {},
   "source": [
    "### Leitura\n",
    "\n",
    "O Python fornece um número enorme de métodos especiais que uma classe pode substituir para interoperar com operações embutidas do Python. Você pode passar por uma [lista visual aproximada](http://diveintopython3.problemsolving.io/special-method-names.html) de Dive into Python3, ou uma [explicação mais detalhada](https://rszalski.github.io/magicmethods/), ou a [documentação completa do Python](https://docs.python.org/3/reference/datamodel.html#specialnames) em métodos especiais. AVISO: Há muitos deles, então é melhor dar uma olhada do que dar um mergulho profundo, a menos que você esteja amando essas coisas."
   ]
  },
  {
   "cell_type": "markdown",
   "metadata": {},
   "source": [
    "### Classe Polinomial\n",
    "\n",
    "Vamos escrever uma classe `Polynomial` que age como um número. Como lembrete, um [polinômio](https://en.wikipedia.org/wiki/Polynomial) é um objeto matemático que se parece com $ 1 + x + x ^ 2 $ ou $ 4 - 10x + x ^ 3 $ ou $ - 4 - 2x ^ {10} $. Um polinômio matemático pode ser avaliado em um determinado valor de $ x $. Por exemplo, se $ f (x) = 1 + x + x ^ 2 $, então $ f (5) = 1 + 5 + 5 ^ 2 = 1 + 5 + 25 = 31 $.\n",
    "\n",
    "Os polinômios também são adicionados: Se $f(x) = 1 + 4x + 4x ^ 3$ e $ g (x) = 2 + 3x ^ 2 + 5x ^ 3 $, então $ (f + g) (x) = (1 + 2) + 4x + 3x ^ 2 + (4 + 5) x ^ 3 = 3 + 4 + 3x ^ 2 + 9x ^ 3 $.\n",
    "\n",
    "Construa um polinômio com uma lista variável de coeficientes: o argumento zero é a coordenada do lugar de $ x ^ 0 $, o primeiro argumento é a coordenada do lugar de $ x ^ 1 $, e assim por diante. Por exemplo, `f = Polynomial(1, 3, 5)` deve construir um `Polynomial` representando $ 1 + 3x + 5x ^ 2 $.\n",
    "\n",
    "Você precisará sobrescrever o método especial de adição (`__add__`) e o método especial que pode ser chamado (` __call__`).\n",
    "\n",
    "Você deve conseguir emular o seguinte código:\n",
    "\n",
    "\n",
    "```Python\n",
    "f = Polynomial(1, 5, 10)\n",
    "g = Polynomial(1, 3, 5)\n",
    "\n",
    "print(f(5))  # => Invokes `f.__call__(5)`\n",
    "print(g(2))  # => Invokes `g.__call__(2)`\n",
    "\n",
    "h = f + g    # => Invokes `f.__add__(g)`\n",
    "print(h(3))  # => Invokes `h.__call__(3)`\n",
    "```\n",
    "\n",
    "Por fim, implemente um método para converter um `Polynomial` em uma representação informal de string. Por exemplo, o polinômio `Polinomial (1, 3, 5)` deve ser representado pela string `\" 1 * x ^ 0 + 3 * x ^ 1 + 5 * x ^ 2 \"`."
   ]
  },
  {
   "cell_type": "code",
   "execution_count": 35,
   "metadata": {},
   "outputs": [],
   "source": [
    "class Polynomial:\n",
    "    def __init__(self, *coeffs):\n",
    "        self.coeffs = coeffs\n",
    "    \n",
    "    def __call__(self, x):\n",
    "        res = 0\n",
    "        for index, coeff in enumerate(self.coeffs):\n",
    "            res += coeff * x ** index\n",
    "        return res\n",
    "    def __add__(self, other):\n",
    "        \"\"\"Implement `self + other`.\"\"\"\n",
    "        if len(self.coeffs) > len(other.coeffs):\n",
    "            result_coeff = self.coeffs[:]\n",
    "            for i in range(len(other.coeffs)):\n",
    "                result_coeff[i] += other.coeffs[i]\n",
    "        else:\n",
    "            result_coeff = other.coeffs[:]\n",
    "            for i in range(len(self.coeffs)):\n",
    "                result_coeff[i] += self.coeffs[i]\n",
    "        return Polynomial(result_coeff)\n",
    "    \n",
    "    def __str__(self):\n",
    "        \"\"\"Implement `str(x)`.\"\"\"\n",
    "        res = \"\"\n",
    "        for i in range(len(self.coeffs)-1, -1, -1):\n",
    "            res +=  str(self.coeffs[i]) + \"x^\" + str(i) + \" + \"\n",
    "        if res.endswith(\" + \"):\n",
    "            res = res[:-3]\n",
    "        return res\n",
    "    "
   ]
  },
  {
   "cell_type": "code",
   "execution_count": 36,
   "metadata": {},
   "outputs": [
    {
     "name": "stdout",
     "output_type": "stream",
     "text": [
      "16\n",
      "10x^2 + 5x^1 + 1x^0\n"
     ]
    }
   ],
   "source": [
    "f = Polynomial(1, 5, 10)\n",
    "print(f(1))\n",
    "print(f)"
   ]
  },
  {
   "cell_type": "code",
   "execution_count": 37,
   "metadata": {},
   "outputs": [
    {
     "name": "stdout",
     "output_type": "stream",
     "text": [
      "86\n",
      "3x^2 + 2x^1 + 1x^0\n"
     ]
    }
   ],
   "source": [
    "f = Polynomial(1,2,3)\n",
    "print(f(5))\n",
    "print(f)"
   ]
  },
  {
   "cell_type": "code",
   "execution_count": 38,
   "metadata": {},
   "outputs": [
    {
     "data": {
      "text/plain": [
       "22"
      ]
     },
     "execution_count": 38,
     "metadata": {},
     "output_type": "execute_result"
    }
   ],
   "source": [
    "f = Polynomial(1, 5, 10)\n",
    "g = Polynomial(1,2,3)\n",
    "f(1)+g(1)"
   ]
  },
  {
   "cell_type": "code",
   "execution_count": 39,
   "metadata": {},
   "outputs": [
    {
     "data": {
      "text/plain": [
       "12"
      ]
     },
     "execution_count": 39,
     "metadata": {},
     "output_type": "execute_result"
    }
   ],
   "source": [
    "f = Polynomial(2, 2, 2)\n",
    "g = Polynomial(2, 2,2)\n",
    "f(1)+g(1)"
   ]
  },
  {
   "cell_type": "markdown",
   "metadata": {},
   "source": [
    "## Exceções"
   ]
  },
  {
   "cell_type": "markdown",
   "metadata": {},
   "source": [
    "### Leitura\n",
    "\n",
    "[Python's documentation on built-in exceptions](https://docs.python.org/3.4/library/exceptions.html)."
   ]
  },
  {
   "cell_type": "markdown",
   "metadata": {},
   "source": [
    "### `try`/`except`/`else`/`finally`\n",
    "\n",
    "O Python fornece blocos `try` e` except`, semelhantes aos blocos `try` e `catch` de outras linguagens, para um fluxo de controle de exceções."
   ]
  },
  {
   "cell_type": "markdown",
   "metadata": {},
   "source": [
    "#### `get_age`\n",
    "\n",
    "Escreva uma função `get_age` que pede a idade de um usuário, que deve ser um número inteiro positivo entre 0 e 123, inclusive (a pessoa mais velha registrada, Jeanna Clement, morreu aos 122 anos). Se o usuário inserir algo que não seja um inteiro, você deverá fazer uma nova solicitação. No entanto, se eles inserirem um número inteiro e estiverem fora do intervalo, você deverá gerar uma exceção. Ou seja, você deve continuar a reprocessá-los até que eles digam algo que possa ser convertido em um inteiro e, em seguida, retorne esse número se ele estiver no intervalo e apresente outra exceção. Duas execuções de amostra são mostradas abaixo\n",
    "\n",
    "```\n",
    "# (Call 1)\n",
    "How old are you? ABC\n",
    "Invalid integer input.\n",
    "How old are you? -4.5\n",
    "Invalid integer input.\n",
    "How old are you? 36\n",
    "# returns 36\n",
    "\n",
    "# (Call 2)\n",
    "How old are you? XYZ\n",
    "Invalid integer input.\n",
    "How old are you? 128\n",
    "# raises some exception\n",
    "Traceback (most recent call last):\n",
    "  File \"<stdin>\", line 1, in <module>\n",
    "ValueError: Age 128 out of range\n",
    "```\n"
   ]
  },
  {
   "cell_type": "code",
   "execution_count": 40,
   "metadata": {},
   "outputs": [],
   "source": [
    "def get_age(min_age=0, max_age=123):\n",
    "    try:\n",
    "        a = int(input(\"How old are you? \"))\n",
    "        if(a < min_age or a > max_age):\n",
    "            print(a, ' out of range')\n",
    "        else:\n",
    "            print(\"You are {0} years old\".format(a))\n",
    "    except ValueError:\n",
    "        print(\"Invalid integer input.\")"
   ]
  },
  {
   "cell_type": "code",
   "execution_count": 41,
   "metadata": {},
   "outputs": [
    {
     "name": "stdin",
     "output_type": "stream",
     "text": [
      "How old are you?  ABC\n"
     ]
    },
    {
     "name": "stdout",
     "output_type": "stream",
     "text": [
      "Invalid integer input.\n"
     ]
    }
   ],
   "source": [
    "get_age()"
   ]
  },
  {
   "cell_type": "code",
   "execution_count": 42,
   "metadata": {},
   "outputs": [
    {
     "name": "stdin",
     "output_type": "stream",
     "text": [
      "How old are you?  -4.5\n"
     ]
    },
    {
     "name": "stdout",
     "output_type": "stream",
     "text": [
      "Invalid integer input.\n"
     ]
    }
   ],
   "source": [
    "get_age()"
   ]
  },
  {
   "cell_type": "code",
   "execution_count": 43,
   "metadata": {},
   "outputs": [
    {
     "name": "stdin",
     "output_type": "stream",
     "text": [
      "How old are you?  36\n"
     ]
    },
    {
     "name": "stdout",
     "output_type": "stream",
     "text": [
      "You are 36 years old\n"
     ]
    }
   ],
   "source": [
    "get_age()"
   ]
  },
  {
   "cell_type": "code",
   "execution_count": 44,
   "metadata": {},
   "outputs": [
    {
     "name": "stdin",
     "output_type": "stream",
     "text": [
      "How old are you?  XYZ\n"
     ]
    },
    {
     "name": "stdout",
     "output_type": "stream",
     "text": [
      "Invalid integer input.\n"
     ]
    }
   ],
   "source": [
    "get_age()"
   ]
  },
  {
   "cell_type": "code",
   "execution_count": 45,
   "metadata": {},
   "outputs": [
    {
     "name": "stdin",
     "output_type": "stream",
     "text": [
      "How old are you?  128\n"
     ]
    },
    {
     "name": "stdout",
     "output_type": "stream",
     "text": [
      "128  out of range\n"
     ]
    }
   ],
   "source": [
    "get_age()"
   ]
  },
  {
   "cell_type": "markdown",
   "metadata": {},
   "source": [
    "### Exceções Personalizadas\n",
    "\n",
    "Escreva uma classe de exceção personalizada chamada `OutOfRangeError` que herda de `ValueError` que indica que um determinado valor está fora de um intervalo aceitável. Como é essa definição de classe?\n",
    "\n",
    "``` \n",
    "# Implement OutOfRangeError\n",
    "```\n",
    "\n",
    "Reescreva seu código em `get_age` para usar esta exceção personalizada. Você precisa alterar algum outro código?\n"
   ]
  },
  {
   "cell_type": "code",
   "execution_count": 46,
   "metadata": {},
   "outputs": [],
   "source": [
    "class OutOfRangeError(ValueError):\n",
    "    pass\n",
    "\n",
    "def get_age(min_age=0, max_age=123):\n",
    "    try:\n",
    "        a = int(input(\"How old are you? \"))\n",
    "        if(a < min_age or a > max_age):\n",
    "            myError = OutOfRangeError()\n",
    "            raise myError\n",
    "        else:\n",
    "            print(\"You are {0} years old\".format(a))\n",
    "    except Exception:\n",
    "        print(\"Invalid integer input.\")"
   ]
  },
  {
   "cell_type": "code",
   "execution_count": 47,
   "metadata": {},
   "outputs": [
    {
     "name": "stdin",
     "output_type": "stream",
     "text": [
      "How old are you?  128\n"
     ]
    },
    {
     "name": "stdout",
     "output_type": "stream",
     "text": [
      "Invalid integer input.\n"
     ]
    }
   ],
   "source": [
    "get_age()"
   ]
  },
  {
   "cell_type": "code",
   "execution_count": 48,
   "metadata": {},
   "outputs": [
    {
     "name": "stdin",
     "output_type": "stream",
     "text": [
      "How old are you?  36\n"
     ]
    },
    {
     "name": "stdout",
     "output_type": "stream",
     "text": [
      "You are 36 years old\n"
     ]
    }
   ],
   "source": [
    "get_age()"
   ]
  },
  {
   "cell_type": "code",
   "execution_count": 49,
   "metadata": {},
   "outputs": [
    {
     "name": "stdin",
     "output_type": "stream",
     "text": [
      "How old are you?  ABC\n"
     ]
    },
    {
     "name": "stdout",
     "output_type": "stream",
     "text": [
      "Invalid integer input.\n"
     ]
    }
   ],
   "source": [
    "get_age()"
   ]
  },
  {
   "cell_type": "markdown",
   "metadata": {},
   "source": [
    "### Usando `else` e `finally`\n",
    "\n",
    "Reescreva sua função `get_age` para usar o bloco `else` e, opcionalmente, o bloco `finally`. Como é consistente com as diretrizes gerais de estilo, tente manter o bloco `try` tão curto quanto possível, contendo apenas o código que pode levantar a exceção que você está tentando capturar."
   ]
  },
  {
   "cell_type": "markdown",
   "metadata": {},
   "source": [
    "### Reraising\n",
    "\n",
    "Considere o seguinte código:\n",
    "\n",
    "```Python\n",
    "try:\n",
    "    print(\"in try\")\n",
    "    # (A)\n",
    "except Exception as exc:\n",
    "    print(\"in except\")\n",
    "    # (B)\n",
    "else:\n",
    "    print(\"in else\")\n",
    "    # (C)\n",
    "finally:\n",
    "    print(\"in finally\")\n",
    "    # (D)\n",
    "```\n",
    "\n",
    "Vamos adicionar alguns erros a este bloco de código, que atualmente é impresso\n",
    "\n",
    "```\n",
    "in try\n",
    "in else\n",
    "in finally\n",
    "```\n",
    "\n",
    "Para cada um dos locais rotulados `(A), (B), (C), (D)`, quais declarações serão impressas se `raise Exception()` estiver nessa posição? Execute o código para testar suas hipóteses."
   ]
  },
  {
   "cell_type": "code",
   "execution_count": 58,
   "metadata": {},
   "outputs": [],
   "source": [
    "# Saidas Previstas:\n",
    "# (A) = in try, except, finally\n",
    "# (B) = in try, except, finally. Porém a saida foi: in try, else, finally\n",
    "# (C) = in try, in else, finally\n",
    "# (D) = in try, in else, in finally"
   ]
  },
  {
   "cell_type": "code",
   "execution_count": 50,
   "metadata": {},
   "outputs": [
    {
     "name": "stdout",
     "output_type": "stream",
     "text": [
      "Try\n",
      "Except\n",
      "Finally\n"
     ]
    }
   ],
   "source": [
    "# Case (A)\n",
    "try:\n",
    "    print(\"Try\")\n",
    "    raise Exception('An on-purpose exception.')\n",
    "except Exception as exc:\n",
    "    print(\"Except\")\n",
    "else:\n",
    "    print(\"Else\")\n",
    "finally:\n",
    "    print(\"Finally\")"
   ]
  },
  {
   "cell_type": "code",
   "execution_count": 51,
   "metadata": {},
   "outputs": [
    {
     "name": "stdout",
     "output_type": "stream",
     "text": [
      "Try\n",
      "Else\n",
      "Finally\n"
     ]
    }
   ],
   "source": [
    "# Case (B)\n",
    "try:\n",
    "    print(\"Try\")\n",
    "except Exception as exc:\n",
    "    print(\"Except\")\n",
    "    raise Exception('An on-purpose exception.')\n",
    "else:\n",
    "    print(\"Else\")\n",
    "finally:\n",
    "    print(\"Finally\")"
   ]
  },
  {
   "cell_type": "code",
   "execution_count": 52,
   "metadata": {},
   "outputs": [
    {
     "name": "stdout",
     "output_type": "stream",
     "text": [
      "Try\n",
      "Else\n",
      "Finally\n"
     ]
    },
    {
     "ename": "Exception",
     "evalue": "An on-purpose exception.",
     "output_type": "error",
     "traceback": [
      "\u001b[1;31m---------------------------------------------------------------------------\u001b[0m",
      "\u001b[1;31mException\u001b[0m                                 Traceback (most recent call last)",
      "\u001b[1;32m<ipython-input-52-53b523c968c3>\u001b[0m in \u001b[0;36m<module>\u001b[1;34m\u001b[0m\n\u001b[0;32m      6\u001b[0m \u001b[1;32melse\u001b[0m\u001b[1;33m:\u001b[0m\u001b[1;33m\u001b[0m\u001b[1;33m\u001b[0m\u001b[0m\n\u001b[0;32m      7\u001b[0m     \u001b[0mprint\u001b[0m\u001b[1;33m(\u001b[0m\u001b[1;34m\"Else\"\u001b[0m\u001b[1;33m)\u001b[0m\u001b[1;33m\u001b[0m\u001b[1;33m\u001b[0m\u001b[0m\n\u001b[1;32m----> 8\u001b[1;33m     \u001b[1;32mraise\u001b[0m \u001b[0mException\u001b[0m\u001b[1;33m(\u001b[0m\u001b[1;34m'An on-purpose exception.'\u001b[0m\u001b[1;33m)\u001b[0m\u001b[1;33m\u001b[0m\u001b[1;33m\u001b[0m\u001b[0m\n\u001b[0m\u001b[0;32m      9\u001b[0m \u001b[1;32mfinally\u001b[0m\u001b[1;33m:\u001b[0m\u001b[1;33m\u001b[0m\u001b[1;33m\u001b[0m\u001b[0m\n\u001b[0;32m     10\u001b[0m     \u001b[0mprint\u001b[0m\u001b[1;33m(\u001b[0m\u001b[1;34m\"Finally\"\u001b[0m\u001b[1;33m)\u001b[0m\u001b[1;33m\u001b[0m\u001b[1;33m\u001b[0m\u001b[0m\n",
      "\u001b[1;31mException\u001b[0m: An on-purpose exception."
     ]
    }
   ],
   "source": [
    "# Case (C)\n",
    "try:\n",
    "    print(\"Try\")\n",
    "except Exception as exc:\n",
    "    print(\"Except\")\n",
    "else:\n",
    "    print(\"Else\")\n",
    "    raise Exception('An on-purpose exception.')\n",
    "finally:\n",
    "    print(\"Finally\")"
   ]
  },
  {
   "cell_type": "code",
   "execution_count": 53,
   "metadata": {},
   "outputs": [
    {
     "name": "stdout",
     "output_type": "stream",
     "text": [
      "Try\n",
      "Else\n",
      "Finally\n"
     ]
    },
    {
     "ename": "Exception",
     "evalue": "An on-purpose exception.",
     "output_type": "error",
     "traceback": [
      "\u001b[1;31m---------------------------------------------------------------------------\u001b[0m",
      "\u001b[1;31mException\u001b[0m                                 Traceback (most recent call last)",
      "\u001b[1;32m<ipython-input-53-128182ca7a07>\u001b[0m in \u001b[0;36m<module>\u001b[1;34m\u001b[0m\n\u001b[0;32m      8\u001b[0m \u001b[1;32mfinally\u001b[0m\u001b[1;33m:\u001b[0m\u001b[1;33m\u001b[0m\u001b[1;33m\u001b[0m\u001b[0m\n\u001b[0;32m      9\u001b[0m     \u001b[0mprint\u001b[0m\u001b[1;33m(\u001b[0m\u001b[1;34m\"Finally\"\u001b[0m\u001b[1;33m)\u001b[0m\u001b[1;33m\u001b[0m\u001b[1;33m\u001b[0m\u001b[0m\n\u001b[1;32m---> 10\u001b[1;33m     \u001b[1;32mraise\u001b[0m \u001b[0mException\u001b[0m\u001b[1;33m(\u001b[0m\u001b[1;34m'An on-purpose exception.'\u001b[0m\u001b[1;33m)\u001b[0m\u001b[1;33m\u001b[0m\u001b[1;33m\u001b[0m\u001b[0m\n\u001b[0m",
      "\u001b[1;31mException\u001b[0m: An on-purpose exception."
     ]
    }
   ],
   "source": [
    "# Case (D)\n",
    "try:\n",
    "    print(\"Try\")\n",
    "except Exception as exc:\n",
    "    print(\"Except\")\n",
    "else:\n",
    "    print(\"Else\")\n",
    "finally:\n",
    "    print(\"Finally\")\n",
    "    raise Exception('An on-purpose exception.')"
   ]
  },
  {
   "cell_type": "code",
   "execution_count": 54,
   "metadata": {},
   "outputs": [
    {
     "name": "stdout",
     "output_type": "stream",
     "text": [
      "Try\n",
      "Except\n",
      "Finally\n"
     ]
    },
    {
     "ename": "Exception",
     "evalue": "Another on-purpose exception.",
     "output_type": "error",
     "traceback": [
      "\u001b[1;31m---------------------------------------------------------------------------\u001b[0m",
      "\u001b[1;31mException\u001b[0m                                 Traceback (most recent call last)",
      "\u001b[1;32m<ipython-input-54-b81486064f4d>\u001b[0m in \u001b[0;36m<module>\u001b[1;34m\u001b[0m\n\u001b[0;32m      3\u001b[0m     \u001b[0mprint\u001b[0m\u001b[1;33m(\u001b[0m\u001b[1;34m\"Try\"\u001b[0m\u001b[1;33m)\u001b[0m\u001b[1;33m\u001b[0m\u001b[1;33m\u001b[0m\u001b[0m\n\u001b[1;32m----> 4\u001b[1;33m     \u001b[1;32mraise\u001b[0m \u001b[0mException\u001b[0m\u001b[1;33m(\u001b[0m\u001b[1;34m'An on-purpose exception.'\u001b[0m\u001b[1;33m)\u001b[0m\u001b[1;33m\u001b[0m\u001b[1;33m\u001b[0m\u001b[0m\n\u001b[0m\u001b[0;32m      5\u001b[0m \u001b[1;32mexcept\u001b[0m \u001b[0mException\u001b[0m \u001b[1;32mas\u001b[0m \u001b[0mexc\u001b[0m\u001b[1;33m:\u001b[0m\u001b[1;33m\u001b[0m\u001b[1;33m\u001b[0m\u001b[0m\n",
      "\u001b[1;31mException\u001b[0m: An on-purpose exception.",
      "\nDuring handling of the above exception, another exception occurred:\n",
      "\u001b[1;31mException\u001b[0m                                 Traceback (most recent call last)",
      "\u001b[1;32m<ipython-input-54-b81486064f4d>\u001b[0m in \u001b[0;36m<module>\u001b[1;34m\u001b[0m\n\u001b[0;32m      5\u001b[0m \u001b[1;32mexcept\u001b[0m \u001b[0mException\u001b[0m \u001b[1;32mas\u001b[0m \u001b[0mexc\u001b[0m\u001b[1;33m:\u001b[0m\u001b[1;33m\u001b[0m\u001b[1;33m\u001b[0m\u001b[0m\n\u001b[0;32m      6\u001b[0m     \u001b[0mprint\u001b[0m\u001b[1;33m(\u001b[0m\u001b[1;34m\"Except\"\u001b[0m\u001b[1;33m)\u001b[0m\u001b[1;33m\u001b[0m\u001b[1;33m\u001b[0m\u001b[0m\n\u001b[1;32m----> 7\u001b[1;33m     \u001b[1;32mraise\u001b[0m \u001b[0mException\u001b[0m\u001b[1;33m(\u001b[0m\u001b[1;34m'Another on-purpose exception.'\u001b[0m\u001b[1;33m)\u001b[0m\u001b[1;33m\u001b[0m\u001b[1;33m\u001b[0m\u001b[0m\n\u001b[0m\u001b[0;32m      8\u001b[0m \u001b[1;32melse\u001b[0m\u001b[1;33m:\u001b[0m\u001b[1;33m\u001b[0m\u001b[1;33m\u001b[0m\u001b[0m\n\u001b[0;32m      9\u001b[0m     \u001b[0mprint\u001b[0m\u001b[1;33m(\u001b[0m\u001b[1;34m\"Else\"\u001b[0m\u001b[1;33m)\u001b[0m\u001b[1;33m\u001b[0m\u001b[1;33m\u001b[0m\u001b[0m\n",
      "\u001b[1;31mException\u001b[0m: Another on-purpose exception."
     ]
    }
   ],
   "source": [
    "# Case (AB)\n",
    "try:\n",
    "    print(\"Try\")\n",
    "    raise Exception('An on-purpose exception.')\n",
    "except Exception as exc:\n",
    "    print(\"Except\")\n",
    "    raise Exception('Another on-purpose exception.')\n",
    "else:\n",
    "    print(\"Else\")\n",
    "finally:\n",
    "    print(\"Finally\")"
   ]
  },
  {
   "cell_type": "code",
   "execution_count": 55,
   "metadata": {},
   "outputs": [
    {
     "name": "stdout",
     "output_type": "stream",
     "text": [
      "Try\n",
      "Except\n",
      "Finally\n"
     ]
    }
   ],
   "source": [
    "# Case (AC)\n",
    "try:\n",
    "    print(\"Try\")\n",
    "    raise Exception('An on-purpose exception.')\n",
    "except Exception as exc:\n",
    "    print(\"Except\")\n",
    "else:\n",
    "    print(\"Else\")\n",
    "    raise Exception('Another on-purpose exception.')\n",
    "finally:\n",
    "    print(\"Finally\")"
   ]
  },
  {
   "cell_type": "code",
   "execution_count": 56,
   "metadata": {},
   "outputs": [
    {
     "name": "stdout",
     "output_type": "stream",
     "text": [
      "Try\n",
      "Except\n",
      "Finally\n"
     ]
    },
    {
     "ename": "Exception",
     "evalue": "Another on-purpose exception.",
     "output_type": "error",
     "traceback": [
      "\u001b[1;31m---------------------------------------------------------------------------\u001b[0m",
      "\u001b[1;31mException\u001b[0m                                 Traceback (most recent call last)",
      "\u001b[1;32m<ipython-input-56-0362d8d2080c>\u001b[0m in \u001b[0;36m<module>\u001b[1;34m\u001b[0m\n\u001b[0;32m      9\u001b[0m \u001b[1;32mfinally\u001b[0m\u001b[1;33m:\u001b[0m\u001b[1;33m\u001b[0m\u001b[1;33m\u001b[0m\u001b[0m\n\u001b[0;32m     10\u001b[0m     \u001b[0mprint\u001b[0m\u001b[1;33m(\u001b[0m\u001b[1;34m\"Finally\"\u001b[0m\u001b[1;33m)\u001b[0m\u001b[1;33m\u001b[0m\u001b[1;33m\u001b[0m\u001b[0m\n\u001b[1;32m---> 11\u001b[1;33m     \u001b[1;32mraise\u001b[0m \u001b[0mException\u001b[0m\u001b[1;33m(\u001b[0m\u001b[1;34m'Another on-purpose exception.'\u001b[0m\u001b[1;33m)\u001b[0m\u001b[1;33m\u001b[0m\u001b[1;33m\u001b[0m\u001b[0m\n\u001b[0m",
      "\u001b[1;31mException\u001b[0m: Another on-purpose exception."
     ]
    }
   ],
   "source": [
    "# Case (AD)\n",
    "try:\n",
    "    print(\"Try\")\n",
    "    raise Exception('An on-purpose exception.')\n",
    "except Exception as exc:\n",
    "    print(\"Except\")\n",
    "else:\n",
    "    print(\"Else\")\n",
    "finally:\n",
    "    print(\"Finally\")\n",
    "    raise Exception('Another on-purpose exception.')"
   ]
  },
  {
   "cell_type": "code",
   "execution_count": 95,
   "metadata": {},
   "outputs": [],
   "source": [
    "#Reescrevendo o codigo\n",
    "#Nao esta verificando o range da idade para simplificar o codigo e testar as saidas\n",
    "#Case A\n",
    "class OutOfRangeError(ValueError):\n",
    "    pass\n",
    "\n",
    "def get_age():\n",
    "    try:\n",
    "        print(\"in try\")\n",
    "        a = int(input(\"How old are you? \"))\n",
    "        print(\"You are {0} years old\".format(a))\n",
    "        raise Exception('An on-purpose exception.')         \n",
    "    except Exception as exc:\n",
    "        print(\"Except\")\n",
    "    else:\n",
    "        print(\"in else\")\n",
    "    finally:\n",
    "        print(\"in finally\")"
   ]
  },
  {
   "cell_type": "code",
   "execution_count": 96,
   "metadata": {},
   "outputs": [
    {
     "name": "stdout",
     "output_type": "stream",
     "text": [
      "in try\n"
     ]
    },
    {
     "name": "stdin",
     "output_type": "stream",
     "text": [
      "How old are you?  30\n"
     ]
    },
    {
     "name": "stdout",
     "output_type": "stream",
     "text": [
      "You are 30 years old\n",
      "Except\n",
      "in finally\n"
     ]
    }
   ],
   "source": [
    "get_age()"
   ]
  },
  {
   "cell_type": "code",
   "execution_count": 97,
   "metadata": {},
   "outputs": [
    {
     "name": "stdout",
     "output_type": "stream",
     "text": [
      "in try\n"
     ]
    },
    {
     "name": "stdin",
     "output_type": "stream",
     "text": [
      "How old are you?  126\n"
     ]
    },
    {
     "name": "stdout",
     "output_type": "stream",
     "text": [
      "You are 126 years old\n",
      "Except\n",
      "in finally\n"
     ]
    }
   ],
   "source": [
    "get_age()"
   ]
  },
  {
   "cell_type": "code",
   "execution_count": 98,
   "metadata": {},
   "outputs": [
    {
     "name": "stdout",
     "output_type": "stream",
     "text": [
      "in try\n"
     ]
    },
    {
     "name": "stdin",
     "output_type": "stream",
     "text": [
      "How old are you?  abc\n"
     ]
    },
    {
     "name": "stdout",
     "output_type": "stream",
     "text": [
      "Except\n",
      "in finally\n"
     ]
    }
   ],
   "source": [
    "get_age()"
   ]
  },
  {
   "cell_type": "code",
   "execution_count": 99,
   "metadata": {},
   "outputs": [],
   "source": [
    "#Reescrevendo o codigo\n",
    "#Nao esta verificando o range da idade para simplificar o codigo e testar as saidas\n",
    "#Case B\n",
    "class OutOfRangeError(ValueError):\n",
    "    pass\n",
    "\n",
    "def get_age():\n",
    "    try:\n",
    "        print(\"in try\")\n",
    "        a = int(input(\"How old are you? \"))\n",
    "        print(\"You are {0} years old\".format(a))\n",
    "    except Exception as exc:\n",
    "        print(\"Except\")\n",
    "        raise Exception('An on-purpose exception.')\n",
    "    else:\n",
    "        print(\"in else\")\n",
    "    finally:\n",
    "        print(\"in finally\")"
   ]
  },
  {
   "cell_type": "code",
   "execution_count": 100,
   "metadata": {},
   "outputs": [
    {
     "name": "stdout",
     "output_type": "stream",
     "text": [
      "in try\n"
     ]
    },
    {
     "name": "stdin",
     "output_type": "stream",
     "text": [
      "How old are you?  30\n"
     ]
    },
    {
     "name": "stdout",
     "output_type": "stream",
     "text": [
      "You are 30 years old\n",
      "in else\n",
      "in finally\n"
     ]
    }
   ],
   "source": [
    "get_age()"
   ]
  },
  {
   "cell_type": "code",
   "execution_count": 101,
   "metadata": {},
   "outputs": [
    {
     "name": "stdout",
     "output_type": "stream",
     "text": [
      "in try\n"
     ]
    },
    {
     "name": "stdin",
     "output_type": "stream",
     "text": [
      "How old are you?  126\n"
     ]
    },
    {
     "name": "stdout",
     "output_type": "stream",
     "text": [
      "You are 126 years old\n",
      "in else\n",
      "in finally\n"
     ]
    }
   ],
   "source": [
    "get_age()"
   ]
  },
  {
   "cell_type": "code",
   "execution_count": 102,
   "metadata": {},
   "outputs": [
    {
     "name": "stdout",
     "output_type": "stream",
     "text": [
      "in try\n"
     ]
    },
    {
     "name": "stdin",
     "output_type": "stream",
     "text": [
      "How old are you?  abc\n"
     ]
    },
    {
     "name": "stdout",
     "output_type": "stream",
     "text": [
      "Except\n",
      "in finally\n"
     ]
    },
    {
     "ename": "Exception",
     "evalue": "An on-purpose exception.",
     "output_type": "error",
     "traceback": [
      "\u001b[1;31m---------------------------------------------------------------------------\u001b[0m",
      "\u001b[1;31mValueError\u001b[0m                                Traceback (most recent call last)",
      "\u001b[1;32m<ipython-input-99-5879cdcc8721>\u001b[0m in \u001b[0;36mget_age\u001b[1;34m()\u001b[0m\n\u001b[0;32m      9\u001b[0m         \u001b[0mprint\u001b[0m\u001b[1;33m(\u001b[0m\u001b[1;34m\"in try\"\u001b[0m\u001b[1;33m)\u001b[0m\u001b[1;33m\u001b[0m\u001b[1;33m\u001b[0m\u001b[0m\n\u001b[1;32m---> 10\u001b[1;33m         \u001b[0ma\u001b[0m \u001b[1;33m=\u001b[0m \u001b[0mint\u001b[0m\u001b[1;33m(\u001b[0m\u001b[0minput\u001b[0m\u001b[1;33m(\u001b[0m\u001b[1;34m\"How old are you? \"\u001b[0m\u001b[1;33m)\u001b[0m\u001b[1;33m)\u001b[0m\u001b[1;33m\u001b[0m\u001b[1;33m\u001b[0m\u001b[0m\n\u001b[0m\u001b[0;32m     11\u001b[0m         \u001b[0mprint\u001b[0m\u001b[1;33m(\u001b[0m\u001b[1;34m\"You are {0} years old\"\u001b[0m\u001b[1;33m.\u001b[0m\u001b[0mformat\u001b[0m\u001b[1;33m(\u001b[0m\u001b[0ma\u001b[0m\u001b[1;33m)\u001b[0m\u001b[1;33m)\u001b[0m\u001b[1;33m\u001b[0m\u001b[1;33m\u001b[0m\u001b[0m\n",
      "\u001b[1;31mValueError\u001b[0m: invalid literal for int() with base 10: 'abc'",
      "\nDuring handling of the above exception, another exception occurred:\n",
      "\u001b[1;31mException\u001b[0m                                 Traceback (most recent call last)",
      "\u001b[1;32m<ipython-input-102-83706c44f258>\u001b[0m in \u001b[0;36m<module>\u001b[1;34m\u001b[0m\n\u001b[1;32m----> 1\u001b[1;33m \u001b[0mget_age\u001b[0m\u001b[1;33m(\u001b[0m\u001b[1;33m)\u001b[0m\u001b[1;33m\u001b[0m\u001b[1;33m\u001b[0m\u001b[0m\n\u001b[0m",
      "\u001b[1;32m<ipython-input-99-5879cdcc8721>\u001b[0m in \u001b[0;36mget_age\u001b[1;34m()\u001b[0m\n\u001b[0;32m     12\u001b[0m     \u001b[1;32mexcept\u001b[0m \u001b[0mException\u001b[0m \u001b[1;32mas\u001b[0m \u001b[0mexc\u001b[0m\u001b[1;33m:\u001b[0m\u001b[1;33m\u001b[0m\u001b[1;33m\u001b[0m\u001b[0m\n\u001b[0;32m     13\u001b[0m         \u001b[0mprint\u001b[0m\u001b[1;33m(\u001b[0m\u001b[1;34m\"Except\"\u001b[0m\u001b[1;33m)\u001b[0m\u001b[1;33m\u001b[0m\u001b[1;33m\u001b[0m\u001b[0m\n\u001b[1;32m---> 14\u001b[1;33m         \u001b[1;32mraise\u001b[0m \u001b[0mException\u001b[0m\u001b[1;33m(\u001b[0m\u001b[1;34m'An on-purpose exception.'\u001b[0m\u001b[1;33m)\u001b[0m\u001b[1;33m\u001b[0m\u001b[1;33m\u001b[0m\u001b[0m\n\u001b[0m\u001b[0;32m     15\u001b[0m     \u001b[1;32melse\u001b[0m\u001b[1;33m:\u001b[0m\u001b[1;33m\u001b[0m\u001b[1;33m\u001b[0m\u001b[0m\n\u001b[0;32m     16\u001b[0m         \u001b[0mprint\u001b[0m\u001b[1;33m(\u001b[0m\u001b[1;34m\"in else\"\u001b[0m\u001b[1;33m)\u001b[0m\u001b[1;33m\u001b[0m\u001b[1;33m\u001b[0m\u001b[0m\n",
      "\u001b[1;31mException\u001b[0m: An on-purpose exception."
     ]
    }
   ],
   "source": [
    "get_age()"
   ]
  },
  {
   "cell_type": "code",
   "execution_count": 103,
   "metadata": {},
   "outputs": [],
   "source": [
    "#Reescrevendo o codigo\n",
    "#Case C\n",
    "class OutOfRangeError(ValueError):\n",
    "    pass\n",
    "\n",
    "def get_age(min_age=0, max_age=123):\n",
    "    try:\n",
    "        print(\"in try\")\n",
    "        a = int(input(\"How old are you? \"))\n",
    "        if(a > min_age and a < max_age):\n",
    "            print(\"You are {0} years old\".format(a))\n",
    "    except Exception as exc:\n",
    "        print(\"Except\")\n",
    "    else:\n",
    "        print(\"in else\")\n",
    "        raise Exception('An on-purpose exception.')\n",
    "    finally:\n",
    "        print(\"in finally\")"
   ]
  },
  {
   "cell_type": "code",
   "execution_count": 104,
   "metadata": {},
   "outputs": [
    {
     "name": "stdout",
     "output_type": "stream",
     "text": [
      "in try\n"
     ]
    },
    {
     "name": "stdin",
     "output_type": "stream",
     "text": [
      "How old are you?  30\n"
     ]
    },
    {
     "name": "stdout",
     "output_type": "stream",
     "text": [
      "You are 30 years old\n",
      "in else\n",
      "in finally\n"
     ]
    },
    {
     "ename": "Exception",
     "evalue": "An on-purpose exception.",
     "output_type": "error",
     "traceback": [
      "\u001b[1;31m---------------------------------------------------------------------------\u001b[0m",
      "\u001b[1;31mException\u001b[0m                                 Traceback (most recent call last)",
      "\u001b[1;32m<ipython-input-104-83706c44f258>\u001b[0m in \u001b[0;36m<module>\u001b[1;34m\u001b[0m\n\u001b[1;32m----> 1\u001b[1;33m \u001b[0mget_age\u001b[0m\u001b[1;33m(\u001b[0m\u001b[1;33m)\u001b[0m\u001b[1;33m\u001b[0m\u001b[1;33m\u001b[0m\u001b[0m\n\u001b[0m",
      "\u001b[1;32m<ipython-input-103-6a5227426319>\u001b[0m in \u001b[0;36mget_age\u001b[1;34m(min_age, max_age)\u001b[0m\n\u001b[0;32m     14\u001b[0m     \u001b[1;32melse\u001b[0m\u001b[1;33m:\u001b[0m\u001b[1;33m\u001b[0m\u001b[1;33m\u001b[0m\u001b[0m\n\u001b[0;32m     15\u001b[0m         \u001b[0mprint\u001b[0m\u001b[1;33m(\u001b[0m\u001b[1;34m\"in else\"\u001b[0m\u001b[1;33m)\u001b[0m\u001b[1;33m\u001b[0m\u001b[1;33m\u001b[0m\u001b[0m\n\u001b[1;32m---> 16\u001b[1;33m         \u001b[1;32mraise\u001b[0m \u001b[0mException\u001b[0m\u001b[1;33m(\u001b[0m\u001b[1;34m'An on-purpose exception.'\u001b[0m\u001b[1;33m)\u001b[0m\u001b[1;33m\u001b[0m\u001b[1;33m\u001b[0m\u001b[0m\n\u001b[0m\u001b[0;32m     17\u001b[0m     \u001b[1;32mfinally\u001b[0m\u001b[1;33m:\u001b[0m\u001b[1;33m\u001b[0m\u001b[1;33m\u001b[0m\u001b[0m\n\u001b[0;32m     18\u001b[0m         \u001b[0mprint\u001b[0m\u001b[1;33m(\u001b[0m\u001b[1;34m\"in finally\"\u001b[0m\u001b[1;33m)\u001b[0m\u001b[1;33m\u001b[0m\u001b[1;33m\u001b[0m\u001b[0m\n",
      "\u001b[1;31mException\u001b[0m: An on-purpose exception."
     ]
    }
   ],
   "source": [
    "get_age()"
   ]
  },
  {
   "cell_type": "code",
   "execution_count": 105,
   "metadata": {},
   "outputs": [],
   "source": [
    "#Reescrevendo o codigo\n",
    "#Case D\n",
    "class OutOfRangeError(ValueError):\n",
    "    pass\n",
    "\n",
    "def get_age(min_age=0, max_age=123):\n",
    "    try:\n",
    "        print(\"in try\")\n",
    "        a = int(input(\"How old are you? \"))\n",
    "        if(a > min_age and a < max_age):\n",
    "            print(\"You are {0} years old\".format(a))\n",
    "    except Exception as exc:\n",
    "        print(\"Except\")\n",
    "    else:\n",
    "        print(\"in else\")\n",
    "    finally:\n",
    "        print(\"in finally\")\n",
    "        raise Exception('An on-purpose exception.')"
   ]
  },
  {
   "cell_type": "code",
   "execution_count": 106,
   "metadata": {},
   "outputs": [
    {
     "name": "stdout",
     "output_type": "stream",
     "text": [
      "in try\n"
     ]
    },
    {
     "name": "stdin",
     "output_type": "stream",
     "text": [
      "How old are you?  30\n"
     ]
    },
    {
     "name": "stdout",
     "output_type": "stream",
     "text": [
      "You are 30 years old\n",
      "in else\n",
      "in finally\n"
     ]
    },
    {
     "ename": "Exception",
     "evalue": "An on-purpose exception.",
     "output_type": "error",
     "traceback": [
      "\u001b[1;31m---------------------------------------------------------------------------\u001b[0m",
      "\u001b[1;31mException\u001b[0m                                 Traceback (most recent call last)",
      "\u001b[1;32m<ipython-input-106-83706c44f258>\u001b[0m in \u001b[0;36m<module>\u001b[1;34m\u001b[0m\n\u001b[1;32m----> 1\u001b[1;33m \u001b[0mget_age\u001b[0m\u001b[1;33m(\u001b[0m\u001b[1;33m)\u001b[0m\u001b[1;33m\u001b[0m\u001b[1;33m\u001b[0m\u001b[0m\n\u001b[0m",
      "\u001b[1;32m<ipython-input-105-454e6620fdb1>\u001b[0m in \u001b[0;36mget_age\u001b[1;34m(min_age, max_age)\u001b[0m\n\u001b[0;32m     16\u001b[0m     \u001b[1;32mfinally\u001b[0m\u001b[1;33m:\u001b[0m\u001b[1;33m\u001b[0m\u001b[1;33m\u001b[0m\u001b[0m\n\u001b[0;32m     17\u001b[0m         \u001b[0mprint\u001b[0m\u001b[1;33m(\u001b[0m\u001b[1;34m\"in finally\"\u001b[0m\u001b[1;33m)\u001b[0m\u001b[1;33m\u001b[0m\u001b[1;33m\u001b[0m\u001b[0m\n\u001b[1;32m---> 18\u001b[1;33m         \u001b[1;32mraise\u001b[0m \u001b[0mException\u001b[0m\u001b[1;33m(\u001b[0m\u001b[1;34m'An on-purpose exception.'\u001b[0m\u001b[1;33m)\u001b[0m\u001b[1;33m\u001b[0m\u001b[1;33m\u001b[0m\u001b[0m\n\u001b[0m",
      "\u001b[1;31mException\u001b[0m: An on-purpose exception."
     ]
    }
   ],
   "source": [
    "get_age()"
   ]
  },
  {
   "cell_type": "code",
   "execution_count": 93,
   "metadata": {},
   "outputs": [],
   "source": [
    "#Reescrevendo o codigo\n",
    "#Case AB\n",
    "class OutOfRangeError(ValueError):\n",
    "    pass\n",
    "\n",
    "def get_age(min_age=0, max_age=123):\n",
    "    try:\n",
    "        print(\"in try\")\n",
    "        a = int(input(\"How old are you? \"))\n",
    "        if(a < min_age or a > max_age):\n",
    "           raise Exception('An on-purpose exception.')\n",
    "        else:\n",
    "            print(\"You are {0} years old\".format(a))\n",
    "    except Exception as exc:\n",
    "        print(\"Except\")\n",
    "        raise Exception('An on-purpose exception.')\n",
    "    else:\n",
    "        print(\"in else\")\n",
    "    finally:\n",
    "        print(\"in finally\")"
   ]
  },
  {
   "cell_type": "code",
   "execution_count": 94,
   "metadata": {},
   "outputs": [
    {
     "name": "stdout",
     "output_type": "stream",
     "text": [
      "in try\n"
     ]
    },
    {
     "name": "stdin",
     "output_type": "stream",
     "text": [
      "How old are you?  30\n"
     ]
    },
    {
     "name": "stdout",
     "output_type": "stream",
     "text": [
      "You are 30 years old\n",
      "in else\n",
      "in finally\n"
     ]
    }
   ],
   "source": [
    "get_age()"
   ]
  },
  {
   "cell_type": "code",
   "execution_count": 52,
   "metadata": {},
   "outputs": [
    {
     "name": "stdout",
     "output_type": "stream",
     "text": [
      "in try\n"
     ]
    },
    {
     "name": "stdin",
     "output_type": "stream",
     "text": [
      "How old are you?  126\n"
     ]
    },
    {
     "name": "stdout",
     "output_type": "stream",
     "text": [
      "Except\n",
      "in finally\n"
     ]
    },
    {
     "ename": "Exception",
     "evalue": "An on-purpose exception.",
     "output_type": "error",
     "traceback": [
      "\u001b[1;31m---------------------------------------------------------------------------\u001b[0m",
      "\u001b[1;31mException\u001b[0m                                 Traceback (most recent call last)",
      "\u001b[1;32m<ipython-input-50-68922701197f>\u001b[0m in \u001b[0;36mget_age\u001b[1;34m(min_age, max_age)\u001b[0m\n\u001b[0;32m     10\u001b[0m         \u001b[1;32mif\u001b[0m\u001b[1;33m(\u001b[0m\u001b[0ma\u001b[0m \u001b[1;33m<\u001b[0m \u001b[0mmin_age\u001b[0m \u001b[1;32mor\u001b[0m \u001b[0ma\u001b[0m \u001b[1;33m>\u001b[0m \u001b[0mmax_age\u001b[0m\u001b[1;33m)\u001b[0m\u001b[1;33m:\u001b[0m\u001b[1;33m\u001b[0m\u001b[1;33m\u001b[0m\u001b[0m\n\u001b[1;32m---> 11\u001b[1;33m            \u001b[1;32mraise\u001b[0m \u001b[0mException\u001b[0m\u001b[1;33m(\u001b[0m\u001b[1;34m'An on-purpose exception.'\u001b[0m\u001b[1;33m)\u001b[0m\u001b[1;33m\u001b[0m\u001b[1;33m\u001b[0m\u001b[0m\n\u001b[0m\u001b[0;32m     12\u001b[0m         \u001b[1;32melse\u001b[0m\u001b[1;33m:\u001b[0m\u001b[1;33m\u001b[0m\u001b[1;33m\u001b[0m\u001b[0m\n",
      "\u001b[1;31mException\u001b[0m: An on-purpose exception.",
      "\nDuring handling of the above exception, another exception occurred:\n",
      "\u001b[1;31mException\u001b[0m                                 Traceback (most recent call last)",
      "\u001b[1;32m<ipython-input-52-83706c44f258>\u001b[0m in \u001b[0;36m<module>\u001b[1;34m\u001b[0m\n\u001b[1;32m----> 1\u001b[1;33m \u001b[0mget_age\u001b[0m\u001b[1;33m(\u001b[0m\u001b[1;33m)\u001b[0m\u001b[1;33m\u001b[0m\u001b[1;33m\u001b[0m\u001b[0m\n\u001b[0m",
      "\u001b[1;32m<ipython-input-50-68922701197f>\u001b[0m in \u001b[0;36mget_age\u001b[1;34m(min_age, max_age)\u001b[0m\n\u001b[0;32m     14\u001b[0m     \u001b[1;32mexcept\u001b[0m \u001b[0mException\u001b[0m \u001b[1;32mas\u001b[0m \u001b[0mexc\u001b[0m\u001b[1;33m:\u001b[0m\u001b[1;33m\u001b[0m\u001b[1;33m\u001b[0m\u001b[0m\n\u001b[0;32m     15\u001b[0m         \u001b[0mprint\u001b[0m\u001b[1;33m(\u001b[0m\u001b[1;34m\"Except\"\u001b[0m\u001b[1;33m)\u001b[0m\u001b[1;33m\u001b[0m\u001b[1;33m\u001b[0m\u001b[0m\n\u001b[1;32m---> 16\u001b[1;33m         \u001b[1;32mraise\u001b[0m \u001b[0mException\u001b[0m\u001b[1;33m(\u001b[0m\u001b[1;34m'An on-purpose exception.'\u001b[0m\u001b[1;33m)\u001b[0m\u001b[1;33m\u001b[0m\u001b[1;33m\u001b[0m\u001b[0m\n\u001b[0m\u001b[0;32m     17\u001b[0m     \u001b[1;32melse\u001b[0m\u001b[1;33m:\u001b[0m\u001b[1;33m\u001b[0m\u001b[1;33m\u001b[0m\u001b[0m\n\u001b[0;32m     18\u001b[0m         \u001b[0mprint\u001b[0m\u001b[1;33m(\u001b[0m\u001b[1;34m\"in else\"\u001b[0m\u001b[1;33m)\u001b[0m\u001b[1;33m\u001b[0m\u001b[1;33m\u001b[0m\u001b[0m\n",
      "\u001b[1;31mException\u001b[0m: An on-purpose exception."
     ]
    }
   ],
   "source": [
    "get_age()"
   ]
  },
  {
   "cell_type": "code",
   "execution_count": 75,
   "metadata": {},
   "outputs": [],
   "source": [
    "#Reescrevendo o codigo\n",
    "#Nao esta verificando o range da idade para simplificar o codigo e testar as saidas\n",
    "#Case AC\n",
    "class OutOfRangeError(ValueError):\n",
    "    pass\n",
    "\n",
    "def get_age():\n",
    "    try:\n",
    "        print(\"in try\")\n",
    "        a = int(input(\"How old are you? \"))\n",
    "        print(\"You are {0} years old\".format(a))\n",
    "        raise Exception('An on-purpose exception.')\n",
    "    except Exception as exc:\n",
    "        print(\"Except\")\n",
    "    else:\n",
    "        print(\"in else\")\n",
    "        raise Exception('An on-purpose exception.')\n",
    "    finally:\n",
    "        print(\"in finally\")"
   ]
  },
  {
   "cell_type": "code",
   "execution_count": 76,
   "metadata": {},
   "outputs": [
    {
     "name": "stdout",
     "output_type": "stream",
     "text": [
      "in try\n"
     ]
    },
    {
     "name": "stdin",
     "output_type": "stream",
     "text": [
      "How old are you?  30\n"
     ]
    },
    {
     "name": "stdout",
     "output_type": "stream",
     "text": [
      "You are 30 years old\n",
      "Except\n",
      "in finally\n"
     ]
    }
   ],
   "source": [
    "get_age()"
   ]
  },
  {
   "cell_type": "code",
   "execution_count": 77,
   "metadata": {},
   "outputs": [
    {
     "name": "stdout",
     "output_type": "stream",
     "text": [
      "in try\n"
     ]
    },
    {
     "name": "stdin",
     "output_type": "stream",
     "text": [
      "How old are you?  126\n"
     ]
    },
    {
     "name": "stdout",
     "output_type": "stream",
     "text": [
      "You are 126 years old\n",
      "Except\n",
      "in finally\n"
     ]
    }
   ],
   "source": [
    "get_age()"
   ]
  },
  {
   "cell_type": "code",
   "execution_count": 78,
   "metadata": {},
   "outputs": [
    {
     "name": "stdout",
     "output_type": "stream",
     "text": [
      "in try\n"
     ]
    },
    {
     "name": "stdin",
     "output_type": "stream",
     "text": [
      "How old are you?  abc\n"
     ]
    },
    {
     "name": "stdout",
     "output_type": "stream",
     "text": [
      "Except\n",
      "in finally\n"
     ]
    }
   ],
   "source": [
    "get_age()"
   ]
  },
  {
   "cell_type": "code",
   "execution_count": 55,
   "metadata": {},
   "outputs": [],
   "source": [
    "#Reescrevendo o codigo\n",
    "#Case AD\n",
    "class OutOfRangeError(ValueError):\n",
    "    pass\n",
    "\n",
    "def get_age(min_age=0, max_age=123):\n",
    "    try:\n",
    "        print(\"in try\")\n",
    "        a = int(input(\"How old are you? \"))\n",
    "        if(a < min_age or a > max_age):\n",
    "           raise Exception('An on-purpose exception.')\n",
    "        else:\n",
    "            print(\"You are {0} years old\".format(a))\n",
    "    except Exception as exc:\n",
    "        print(\"Except\")\n",
    "    else:\n",
    "        print(\"in else\")\n",
    "    finally:\n",
    "        print(\"in finally\")\n",
    "        raise Exception('An on-purpose exception.')"
   ]
  },
  {
   "cell_type": "code",
   "execution_count": 56,
   "metadata": {},
   "outputs": [
    {
     "name": "stdout",
     "output_type": "stream",
     "text": [
      "in try\n"
     ]
    },
    {
     "name": "stdin",
     "output_type": "stream",
     "text": [
      "How old are you?  30\n"
     ]
    },
    {
     "name": "stdout",
     "output_type": "stream",
     "text": [
      "You are 30 years old\n",
      "in else\n",
      "in finally\n"
     ]
    },
    {
     "ename": "Exception",
     "evalue": "An on-purpose exception.",
     "output_type": "error",
     "traceback": [
      "\u001b[1;31m---------------------------------------------------------------------------\u001b[0m",
      "\u001b[1;31mException\u001b[0m                                 Traceback (most recent call last)",
      "\u001b[1;32m<ipython-input-56-83706c44f258>\u001b[0m in \u001b[0;36m<module>\u001b[1;34m\u001b[0m\n\u001b[1;32m----> 1\u001b[1;33m \u001b[0mget_age\u001b[0m\u001b[1;33m(\u001b[0m\u001b[1;33m)\u001b[0m\u001b[1;33m\u001b[0m\u001b[1;33m\u001b[0m\u001b[0m\n\u001b[0m",
      "\u001b[1;32m<ipython-input-55-be7ea93355c0>\u001b[0m in \u001b[0;36mget_age\u001b[1;34m(min_age, max_age)\u001b[0m\n\u001b[0;32m     18\u001b[0m     \u001b[1;32mfinally\u001b[0m\u001b[1;33m:\u001b[0m\u001b[1;33m\u001b[0m\u001b[1;33m\u001b[0m\u001b[0m\n\u001b[0;32m     19\u001b[0m         \u001b[0mprint\u001b[0m\u001b[1;33m(\u001b[0m\u001b[1;34m\"in finally\"\u001b[0m\u001b[1;33m)\u001b[0m\u001b[1;33m\u001b[0m\u001b[1;33m\u001b[0m\u001b[0m\n\u001b[1;32m---> 20\u001b[1;33m         \u001b[1;32mraise\u001b[0m \u001b[0mException\u001b[0m\u001b[1;33m(\u001b[0m\u001b[1;34m'An on-purpose exception.'\u001b[0m\u001b[1;33m)\u001b[0m\u001b[1;33m\u001b[0m\u001b[1;33m\u001b[0m\u001b[0m\n\u001b[0m",
      "\u001b[1;31mException\u001b[0m: An on-purpose exception."
     ]
    }
   ],
   "source": [
    "get_age()"
   ]
  },
  {
   "cell_type": "markdown",
   "metadata": {},
   "source": [
    "## Acabou cedo?\n",
    "\n",
    "Respire fundo. O que quer que você esteja trabalhando, você pode fazer isso!"
   ]
  },
  {
   "cell_type": "markdown",
   "metadata": {},
   "source": [
    "> With <3 by @sredmond"
   ]
  }
 ],
 "metadata": {
  "kernelspec": {
   "display_name": "Python 3",
   "language": "python",
   "name": "python3"
  },
  "language_info": {
   "codemirror_mode": {
    "name": "ipython",
    "version": 3
   },
   "file_extension": ".py",
   "mimetype": "text/x-python",
   "name": "python",
   "nbconvert_exporter": "python",
   "pygments_lexer": "ipython3",
   "version": "3.7.1"
  }
 },
 "nbformat": 4,
 "nbformat_minor": 2
}
